{
 "cells": [
  {
   "cell_type": "code",
   "execution_count": 2,
   "metadata": {},
   "outputs": [],
   "source": [
    "import pandas as pd\n",
    "import json"
   ]
  },
  {
   "cell_type": "code",
   "execution_count": 3,
   "metadata": {},
   "outputs": [],
   "source": [
    "df_redefine = pd.read_csv('./raw_data/ariel_project_data_1Kdays.csv')"
   ]
  },
  {
   "cell_type": "code",
   "execution_count": 4,
   "metadata": {},
   "outputs": [],
   "source": [
    "df_redefine['other_contracts'] = df_redefine['other_contracts'].apply(lambda x: x.replace(\"'\",'\"'))\n",
    "df_redefine['other_contracts'] = df_redefine['other_contracts'].apply(lambda x: json.loads(x))\n"
   ]
  },
  {
   "cell_type": "code",
   "execution_count": 6,
   "metadata": {},
   "outputs": [],
   "source": [
    "def parse_contracts(obj):\n",
    "    x=[]\n",
    "    for address in obj:\n",
    "        y = address['smartContract']['address']['address']\n",
    "        x.append(y)\n",
    "    return x\n",
    "  \n",
    "df_redefine['other_created_address'] = df_redefine['other_contracts'].apply(lambda x: parse_contracts(x))\n"
   ]
  },
  {
   "cell_type": "code",
   "execution_count": 14,
   "metadata": {},
   "outputs": [
    {
     "ename": "TypeError",
     "evalue": "string indices must be integers, not 'str'",
     "output_type": "error",
     "traceback": [
      "\u001b[0;31m---------------------------------------------------------------------------\u001b[0m",
      "\u001b[0;31mTypeError\u001b[0m                                 Traceback (most recent call last)",
      "Cell \u001b[0;32mIn[14], line 12\u001b[0m\n\u001b[1;32m      9\u001b[0m     \u001b[39mreturn\u001b[39;00m addreses, dates\n\u001b[1;32m     11\u001b[0m df_contract_creation_date \u001b[39m=\u001b[39m pd\u001b[39m.\u001b[39mDataFrame()\n\u001b[0;32m---> 12\u001b[0m df_contract_creation_date[[\u001b[39m'\u001b[39m\u001b[39maddress\u001b[39m\u001b[39m'\u001b[39m, \u001b[39m'\u001b[39m\u001b[39mdate\u001b[39m\u001b[39m'\u001b[39m]] \u001b[39m=\u001b[39m df_redefine[\u001b[39m'\u001b[39;49m\u001b[39mother_contracts\u001b[39;49m\u001b[39m'\u001b[39;49m]\u001b[39m.\u001b[39;49mapply(\u001b[39mlambda\u001b[39;49;00m x: parse_date(x))\n",
      "File \u001b[0;32m/opt/homebrew/Caskroom/miniforge/base/envs/ariel-final/lib/python3.11/site-packages/pandas/core/series.py:4771\u001b[0m, in \u001b[0;36mSeries.apply\u001b[0;34m(self, func, convert_dtype, args, **kwargs)\u001b[0m\n\u001b[1;32m   4661\u001b[0m \u001b[39mdef\u001b[39;00m \u001b[39mapply\u001b[39m(\n\u001b[1;32m   4662\u001b[0m     \u001b[39mself\u001b[39m,\n\u001b[1;32m   4663\u001b[0m     func: AggFuncType,\n\u001b[0;32m   (...)\u001b[0m\n\u001b[1;32m   4666\u001b[0m     \u001b[39m*\u001b[39m\u001b[39m*\u001b[39mkwargs,\n\u001b[1;32m   4667\u001b[0m ) \u001b[39m-\u001b[39m\u001b[39m>\u001b[39m DataFrame \u001b[39m|\u001b[39m Series:\n\u001b[1;32m   4668\u001b[0m \u001b[39m    \u001b[39m\u001b[39m\"\"\"\u001b[39;00m\n\u001b[1;32m   4669\u001b[0m \u001b[39m    Invoke function on values of Series.\u001b[39;00m\n\u001b[1;32m   4670\u001b[0m \n\u001b[0;32m   (...)\u001b[0m\n\u001b[1;32m   4769\u001b[0m \u001b[39m    dtype: float64\u001b[39;00m\n\u001b[1;32m   4770\u001b[0m \u001b[39m    \"\"\"\u001b[39;00m\n\u001b[0;32m-> 4771\u001b[0m     \u001b[39mreturn\u001b[39;00m SeriesApply(\u001b[39mself\u001b[39;49m, func, convert_dtype, args, kwargs)\u001b[39m.\u001b[39;49mapply()\n",
      "File \u001b[0;32m/opt/homebrew/Caskroom/miniforge/base/envs/ariel-final/lib/python3.11/site-packages/pandas/core/apply.py:1123\u001b[0m, in \u001b[0;36mSeriesApply.apply\u001b[0;34m(self)\u001b[0m\n\u001b[1;32m   1120\u001b[0m     \u001b[39mreturn\u001b[39;00m \u001b[39mself\u001b[39m\u001b[39m.\u001b[39mapply_str()\n\u001b[1;32m   1122\u001b[0m \u001b[39m# self.f is Callable\u001b[39;00m\n\u001b[0;32m-> 1123\u001b[0m \u001b[39mreturn\u001b[39;00m \u001b[39mself\u001b[39;49m\u001b[39m.\u001b[39;49mapply_standard()\n",
      "File \u001b[0;32m/opt/homebrew/Caskroom/miniforge/base/envs/ariel-final/lib/python3.11/site-packages/pandas/core/apply.py:1174\u001b[0m, in \u001b[0;36mSeriesApply.apply_standard\u001b[0;34m(self)\u001b[0m\n\u001b[1;32m   1172\u001b[0m     \u001b[39melse\u001b[39;00m:\n\u001b[1;32m   1173\u001b[0m         values \u001b[39m=\u001b[39m obj\u001b[39m.\u001b[39mastype(\u001b[39mobject\u001b[39m)\u001b[39m.\u001b[39m_values\n\u001b[0;32m-> 1174\u001b[0m         mapped \u001b[39m=\u001b[39m lib\u001b[39m.\u001b[39;49mmap_infer(\n\u001b[1;32m   1175\u001b[0m             values,\n\u001b[1;32m   1176\u001b[0m             f,\n\u001b[1;32m   1177\u001b[0m             convert\u001b[39m=\u001b[39;49m\u001b[39mself\u001b[39;49m\u001b[39m.\u001b[39;49mconvert_dtype,\n\u001b[1;32m   1178\u001b[0m         )\n\u001b[1;32m   1180\u001b[0m \u001b[39mif\u001b[39;00m \u001b[39mlen\u001b[39m(mapped) \u001b[39mand\u001b[39;00m \u001b[39misinstance\u001b[39m(mapped[\u001b[39m0\u001b[39m], ABCSeries):\n\u001b[1;32m   1181\u001b[0m     \u001b[39m# GH#43986 Need to do list(mapped) in order to get treated as nested\u001b[39;00m\n\u001b[1;32m   1182\u001b[0m     \u001b[39m#  See also GH#25959 regarding EA support\u001b[39;00m\n\u001b[1;32m   1183\u001b[0m     \u001b[39mreturn\u001b[39;00m obj\u001b[39m.\u001b[39m_constructor_expanddim(\u001b[39mlist\u001b[39m(mapped), index\u001b[39m=\u001b[39mobj\u001b[39m.\u001b[39mindex)\n",
      "File \u001b[0;32m/opt/homebrew/Caskroom/miniforge/base/envs/ariel-final/lib/python3.11/site-packages/pandas/_libs/lib.pyx:2924\u001b[0m, in \u001b[0;36mpandas._libs.lib.map_infer\u001b[0;34m()\u001b[0m\n",
      "Cell \u001b[0;32mIn[14], line 12\u001b[0m, in \u001b[0;36m<lambda>\u001b[0;34m(x)\u001b[0m\n\u001b[1;32m      9\u001b[0m     \u001b[39mreturn\u001b[39;00m addreses, dates\n\u001b[1;32m     11\u001b[0m df_contract_creation_date \u001b[39m=\u001b[39m pd\u001b[39m.\u001b[39mDataFrame()\n\u001b[0;32m---> 12\u001b[0m df_contract_creation_date[[\u001b[39m'\u001b[39m\u001b[39maddress\u001b[39m\u001b[39m'\u001b[39m, \u001b[39m'\u001b[39m\u001b[39mdate\u001b[39m\u001b[39m'\u001b[39m]] \u001b[39m=\u001b[39m df_redefine[\u001b[39m'\u001b[39m\u001b[39mother_contracts\u001b[39m\u001b[39m'\u001b[39m]\u001b[39m.\u001b[39mapply(\u001b[39mlambda\u001b[39;00m x: parse_date(x))\n",
      "Cell \u001b[0;32mIn[14], line 6\u001b[0m, in \u001b[0;36mparse_date\u001b[0;34m(obj)\u001b[0m\n\u001b[1;32m      4\u001b[0m \u001b[39mfor\u001b[39;00m address \u001b[39min\u001b[39;00m obj:\n\u001b[1;32m      5\u001b[0m     address \u001b[39m=\u001b[39m address[\u001b[39m'\u001b[39m\u001b[39msmartContract\u001b[39m\u001b[39m'\u001b[39m][\u001b[39m'\u001b[39m\u001b[39maddress\u001b[39m\u001b[39m'\u001b[39m][\u001b[39m'\u001b[39m\u001b[39maddress\u001b[39m\u001b[39m'\u001b[39m]\n\u001b[0;32m----> 6\u001b[0m     date \u001b[39m=\u001b[39m address[\u001b[39m'\u001b[39;49m\u001b[39mdate\u001b[39;49m\u001b[39m'\u001b[39;49m][\u001b[39m'\u001b[39m\u001b[39mdate\u001b[39m\u001b[39m'\u001b[39m]\n\u001b[1;32m      7\u001b[0m     addreses\u001b[39m.\u001b[39mappend(address)\n\u001b[1;32m      8\u001b[0m     dates\u001b[39m.\u001b[39mappend(date)\n",
      "\u001b[0;31mTypeError\u001b[0m: string indices must be integers, not 'str'"
     ]
    }
   ],
   "source": [
    "def parse_date(obj):\n",
    "    addreses=[]\n",
    "    dates =[]\n",
    "    for address in obj:\n",
    "        address = address['smartContract']['address']['address']\n",
    "        date = address['date']['date']\n",
    "        addreses.append(address)\n",
    "        dates.append(date)\n",
    "    return addreses, dates\n",
    "\n",
    "df_contract_creation_date = pd.DataFrame()\n",
    "df_contract_creation_date[['address', 'date']] = df_redefine['other_contracts'].apply(lambda x: parse_date(x))"
   ]
  },
  {
   "cell_type": "code",
   "execution_count": 7,
   "metadata": {},
   "outputs": [
    {
     "data": {
      "text/plain": [
       "Index(['Unnamed: 0', 'token_address', 'project_name', 'code_repo',\n",
       "       'token_creator', 'total_tvl', 'other_contracts',\n",
       "       'other_created_address', 'other_address_creation_date'],\n",
       "      dtype='object')"
      ]
     },
     "execution_count": 7,
     "metadata": {},
     "output_type": "execute_result"
    }
   ],
   "source": [
    "df_redefine.columns"
   ]
  },
  {
   "cell_type": "code",
   "execution_count": 8,
   "metadata": {},
   "outputs": [],
   "source": [
    "df_redefine_expanded = df_redefine.loc[:,['token_creator','other_created_address','project_name','other_address_creation_date']]"
   ]
  },
  {
   "cell_type": "code",
   "execution_count": 9,
   "metadata": {},
   "outputs": [],
   "source": [
    "df_redefine_expanded = df_redefine_expanded.explode('other_created_address')"
   ]
  },
  {
   "cell_type": "code",
   "execution_count": 10,
   "metadata": {},
   "outputs": [],
   "source": [
    "df_redefine_expanded.reset_index(inplace=True)\n",
    "df_redefine_expanded.drop('index',axis=1, inplace=True)"
   ]
  },
  {
   "cell_type": "code",
   "execution_count": 11,
   "metadata": {},
   "outputs": [
    {
     "data": {
      "text/html": [
       "<div>\n",
       "<style scoped>\n",
       "    .dataframe tbody tr th:only-of-type {\n",
       "        vertical-align: middle;\n",
       "    }\n",
       "\n",
       "    .dataframe tbody tr th {\n",
       "        vertical-align: top;\n",
       "    }\n",
       "\n",
       "    .dataframe thead th {\n",
       "        text-align: right;\n",
       "    }\n",
       "</style>\n",
       "<table border=\"1\" class=\"dataframe\">\n",
       "  <thead>\n",
       "    <tr style=\"text-align: right;\">\n",
       "      <th></th>\n",
       "      <th>token_creator</th>\n",
       "      <th>other_created_address</th>\n",
       "      <th>project_name</th>\n",
       "      <th>other_address_creation_date</th>\n",
       "    </tr>\n",
       "  </thead>\n",
       "  <tbody>\n",
       "    <tr>\n",
       "      <th>0</th>\n",
       "      <td>0x78655080b65f42E2ceE5FA5673689CC44D4E1cFC</td>\n",
       "      <td>0xb83e7f1b67d9e57faaa82452ddea2ec9db54f2e8</td>\n",
       "      <td>Matic</td>\n",
       "      <td>[2022-09-05, 2021-09-10, 2021-02-28, 2021-02-2...</td>\n",
       "    </tr>\n",
       "    <tr>\n",
       "      <th>1</th>\n",
       "      <td>0x78655080b65f42E2ceE5FA5673689CC44D4E1cFC</td>\n",
       "      <td>0x4c37c126eac3baaa98e38eae05215c522e6ca817</td>\n",
       "      <td>Matic</td>\n",
       "      <td>[2022-09-05, 2021-09-10, 2021-02-28, 2021-02-2...</td>\n",
       "    </tr>\n",
       "    <tr>\n",
       "      <th>2</th>\n",
       "      <td>0x78655080b65f42E2ceE5FA5673689CC44D4E1cFC</td>\n",
       "      <td>0x185486869e615f5a5644991a491212582caa08fb</td>\n",
       "      <td>Matic</td>\n",
       "      <td>[2022-09-05, 2021-09-10, 2021-02-28, 2021-02-2...</td>\n",
       "    </tr>\n",
       "    <tr>\n",
       "      <th>3</th>\n",
       "      <td>0x78655080b65f42E2ceE5FA5673689CC44D4E1cFC</td>\n",
       "      <td>0x4a5020dc88541c4e0ed19fd7e1da2f6722012c56</td>\n",
       "      <td>Matic</td>\n",
       "      <td>[2022-09-05, 2021-09-10, 2021-02-28, 2021-02-2...</td>\n",
       "    </tr>\n",
       "    <tr>\n",
       "      <th>4</th>\n",
       "      <td>0x78655080b65f42E2ceE5FA5673689CC44D4E1cFC</td>\n",
       "      <td>0x40730f34668afcb3884f050cbc3d376a444bbe44</td>\n",
       "      <td>Matic</td>\n",
       "      <td>[2022-09-05, 2021-09-10, 2021-02-28, 2021-02-2...</td>\n",
       "    </tr>\n",
       "    <tr>\n",
       "      <th>...</th>\n",
       "      <td>...</td>\n",
       "      <td>...</td>\n",
       "      <td>...</td>\n",
       "      <td>...</td>\n",
       "    </tr>\n",
       "    <tr>\n",
       "      <th>15467</th>\n",
       "      <td>0x8a2B212cA369f4893F298dD0C4aebE0E75C8396e</td>\n",
       "      <td>0x60c6b5dc066e33801f2d9f2830595490a3086b4e</td>\n",
       "      <td>Dogs Of Elon</td>\n",
       "      <td>[2022-05-25, 2021-11-15, 2021-11-10, 2021-11-0...</td>\n",
       "    </tr>\n",
       "    <tr>\n",
       "      <th>15468</th>\n",
       "      <td>0x8a2B212cA369f4893F298dD0C4aebE0E75C8396e</td>\n",
       "      <td>0x3c40601f73fbf50b81a72edbf2786f14ebb7371b</td>\n",
       "      <td>Dogs Of Elon</td>\n",
       "      <td>[2022-05-25, 2021-11-15, 2021-11-10, 2021-11-0...</td>\n",
       "    </tr>\n",
       "    <tr>\n",
       "      <th>15469</th>\n",
       "      <td>0x8a2B212cA369f4893F298dD0C4aebE0E75C8396e</td>\n",
       "      <td>0xbef1b61dc62b82659f102a332e1276e67371ae6e</td>\n",
       "      <td>Dogs Of Elon</td>\n",
       "      <td>[2022-05-25, 2021-11-15, 2021-11-10, 2021-11-0...</td>\n",
       "    </tr>\n",
       "    <tr>\n",
       "      <th>15470</th>\n",
       "      <td>0x8a2B212cA369f4893F298dD0C4aebE0E75C8396e</td>\n",
       "      <td>0xf8e9f10c22840b613cda05a0c5fdb59a4d6cd7ef</td>\n",
       "      <td>Dogs Of Elon</td>\n",
       "      <td>[2022-05-25, 2021-11-15, 2021-11-10, 2021-11-0...</td>\n",
       "    </tr>\n",
       "    <tr>\n",
       "      <th>15471</th>\n",
       "      <td>0x8a2B212cA369f4893F298dD0C4aebE0E75C8396e</td>\n",
       "      <td>0xd8cdb4b17a741dc7c6a57a650974cd2eba544ff7</td>\n",
       "      <td>Dogs Of Elon</td>\n",
       "      <td>[2022-05-25, 2021-11-15, 2021-11-10, 2021-11-0...</td>\n",
       "    </tr>\n",
       "  </tbody>\n",
       "</table>\n",
       "<p>15472 rows × 4 columns</p>\n",
       "</div>"
      ],
      "text/plain": [
       "                                    token_creator  \\\n",
       "0      0x78655080b65f42E2ceE5FA5673689CC44D4E1cFC   \n",
       "1      0x78655080b65f42E2ceE5FA5673689CC44D4E1cFC   \n",
       "2      0x78655080b65f42E2ceE5FA5673689CC44D4E1cFC   \n",
       "3      0x78655080b65f42E2ceE5FA5673689CC44D4E1cFC   \n",
       "4      0x78655080b65f42E2ceE5FA5673689CC44D4E1cFC   \n",
       "...                                           ...   \n",
       "15467  0x8a2B212cA369f4893F298dD0C4aebE0E75C8396e   \n",
       "15468  0x8a2B212cA369f4893F298dD0C4aebE0E75C8396e   \n",
       "15469  0x8a2B212cA369f4893F298dD0C4aebE0E75C8396e   \n",
       "15470  0x8a2B212cA369f4893F298dD0C4aebE0E75C8396e   \n",
       "15471  0x8a2B212cA369f4893F298dD0C4aebE0E75C8396e   \n",
       "\n",
       "                            other_created_address  project_name  \\\n",
       "0      0xb83e7f1b67d9e57faaa82452ddea2ec9db54f2e8         Matic   \n",
       "1      0x4c37c126eac3baaa98e38eae05215c522e6ca817         Matic   \n",
       "2      0x185486869e615f5a5644991a491212582caa08fb         Matic   \n",
       "3      0x4a5020dc88541c4e0ed19fd7e1da2f6722012c56         Matic   \n",
       "4      0x40730f34668afcb3884f050cbc3d376a444bbe44         Matic   \n",
       "...                                           ...           ...   \n",
       "15467  0x60c6b5dc066e33801f2d9f2830595490a3086b4e  Dogs Of Elon   \n",
       "15468  0x3c40601f73fbf50b81a72edbf2786f14ebb7371b  Dogs Of Elon   \n",
       "15469  0xbef1b61dc62b82659f102a332e1276e67371ae6e  Dogs Of Elon   \n",
       "15470  0xf8e9f10c22840b613cda05a0c5fdb59a4d6cd7ef  Dogs Of Elon   \n",
       "15471  0xd8cdb4b17a741dc7c6a57a650974cd2eba544ff7  Dogs Of Elon   \n",
       "\n",
       "                             other_address_creation_date  \n",
       "0      [2022-09-05, 2021-09-10, 2021-02-28, 2021-02-2...  \n",
       "1      [2022-09-05, 2021-09-10, 2021-02-28, 2021-02-2...  \n",
       "2      [2022-09-05, 2021-09-10, 2021-02-28, 2021-02-2...  \n",
       "3      [2022-09-05, 2021-09-10, 2021-02-28, 2021-02-2...  \n",
       "4      [2022-09-05, 2021-09-10, 2021-02-28, 2021-02-2...  \n",
       "...                                                  ...  \n",
       "15467  [2022-05-25, 2021-11-15, 2021-11-10, 2021-11-0...  \n",
       "15468  [2022-05-25, 2021-11-15, 2021-11-10, 2021-11-0...  \n",
       "15469  [2022-05-25, 2021-11-15, 2021-11-10, 2021-11-0...  \n",
       "15470  [2022-05-25, 2021-11-15, 2021-11-10, 2021-11-0...  \n",
       "15471  [2022-05-25, 2021-11-15, 2021-11-10, 2021-11-0...  \n",
       "\n",
       "[15472 rows x 4 columns]"
      ]
     },
     "execution_count": 11,
     "metadata": {},
     "output_type": "execute_result"
    }
   ],
   "source": [
    "df_redefine_expanded"
   ]
  },
  {
   "cell_type": "code",
   "execution_count": null,
   "metadata": {},
   "outputs": [],
   "source": [
    "df_redefine_expanded.to_csv('./raw_data/expanded_redefine_data.csv')"
   ]
  }
 ],
 "metadata": {
  "kernelspec": {
   "display_name": "ariel-final",
   "language": "python",
   "name": "python3"
  },
  "language_info": {
   "codemirror_mode": {
    "name": "ipython",
    "version": 3
   },
   "file_extension": ".py",
   "mimetype": "text/x-python",
   "name": "python",
   "nbconvert_exporter": "python",
   "pygments_lexer": "ipython3",
   "version": "3.11.0"
  },
  "orig_nbformat": 4,
  "vscode": {
   "interpreter": {
    "hash": "c5189f02553a516c04daa42a4c3a30d48a304463063ad5ec13130d72eb942a4d"
   }
  }
 },
 "nbformat": 4,
 "nbformat_minor": 2
}
