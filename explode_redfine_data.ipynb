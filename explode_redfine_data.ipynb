{
 "cells": [
  {
   "cell_type": "code",
   "execution_count": 181,
   "metadata": {},
   "outputs": [],
   "source": [
    "import pandas as pd\n",
    "import json\n",
    "import datetime"
   ]
  },
  {
   "cell_type": "code",
   "execution_count": 182,
   "metadata": {},
   "outputs": [],
   "source": [
    "df_redefine = pd.read_csv('./raw_data/ariel_project_data_1Kdays.csv', index_col=0)"
   ]
  },
  {
   "cell_type": "code",
   "execution_count": 183,
   "metadata": {},
   "outputs": [],
   "source": [
    "df_redefine['other_contracts'] = df_redefine['other_contracts'].apply(lambda x: x.replace(\"'\",'\"'))\n",
    "df_redefine['other_contracts'] = df_redefine['other_contracts'].apply(lambda x: json.loads(x))\n"
   ]
  },
  {
   "cell_type": "code",
   "execution_count": 184,
   "metadata": {},
   "outputs": [],
   "source": [
    "def parse_contracts(obj):\n",
    "    x=[]\n",
    "    for address in obj:\n",
    "        y = address['smartContract']['address']['address']\n",
    "        x.append(y)\n",
    "    return x\n",
    "  \n",
    "df_redefine['other_created_address'] = df_redefine['other_contracts'].apply(lambda x: parse_contracts(x))\n"
   ]
  },
  {
   "cell_type": "code",
   "execution_count": 185,
   "metadata": {},
   "outputs": [],
   "source": [
    "def parse_date(obj):\n",
    "    addresses=[]\n",
    "    dates =[]\n",
    "    for i in obj:\n",
    "        address = i['smartContract']['address']['address']\n",
    "        date = i['date']['date']\n",
    "        addresses.append(address)\n",
    "        dates.append(date)\n",
    "    return addresses, dates\n",
    "\n",
    "my_tuple = df_redefine['other_contracts'].apply(lambda x: parse_date(x)).tolist()\n",
    "df_contract_creation_date = pd.DataFrame(my_tuple)\n",
    "# Assuming the DataFrame is named 'df'\n",
    "pairs = []\n",
    "\n",
    "for index, row in df_contract_creation_date.iterrows():\n",
    "    addresses = row[0]\n",
    "    dates = row[1]\n",
    "\n",
    "    # Zip addresses and dates to create pairs\n",
    "    combined = zip(addresses, dates)\n",
    "    pairs.extend(combined)\n",
    "\n",
    "# Create a new DataFrame using the pairs and the specified column names\n",
    "df_contract_creation_date = pd.DataFrame(pairs, columns=['address', 'date'])\n"
   ]
  },
  {
   "cell_type": "code",
   "execution_count": 186,
   "metadata": {},
   "outputs": [
    {
     "data": {
      "text/html": [
       "<div>\n",
       "<style scoped>\n",
       "    .dataframe tbody tr th:only-of-type {\n",
       "        vertical-align: middle;\n",
       "    }\n",
       "\n",
       "    .dataframe tbody tr th {\n",
       "        vertical-align: top;\n",
       "    }\n",
       "\n",
       "    .dataframe thead th {\n",
       "        text-align: right;\n",
       "    }\n",
       "</style>\n",
       "<table border=\"1\" class=\"dataframe\">\n",
       "  <thead>\n",
       "    <tr style=\"text-align: right;\">\n",
       "      <th></th>\n",
       "      <th>address</th>\n",
       "      <th>date</th>\n",
       "    </tr>\n",
       "  </thead>\n",
       "  <tbody>\n",
       "    <tr>\n",
       "      <th>0</th>\n",
       "      <td>0xb83e7f1b67d9e57faaa82452ddea2ec9db54f2e8</td>\n",
       "      <td>2022-09-05</td>\n",
       "    </tr>\n",
       "    <tr>\n",
       "      <th>1</th>\n",
       "      <td>0x4c37c126eac3baaa98e38eae05215c522e6ca817</td>\n",
       "      <td>2021-09-10</td>\n",
       "    </tr>\n",
       "    <tr>\n",
       "      <th>2</th>\n",
       "      <td>0x185486869e615f5a5644991a491212582caa08fb</td>\n",
       "      <td>2021-02-28</td>\n",
       "    </tr>\n",
       "    <tr>\n",
       "      <th>3</th>\n",
       "      <td>0x4a5020dc88541c4e0ed19fd7e1da2f6722012c56</td>\n",
       "      <td>2021-02-28</td>\n",
       "    </tr>\n",
       "    <tr>\n",
       "      <th>4</th>\n",
       "      <td>0x40730f34668afcb3884f050cbc3d376a444bbe44</td>\n",
       "      <td>2021-01-25</td>\n",
       "    </tr>\n",
       "    <tr>\n",
       "      <th>...</th>\n",
       "      <td>...</td>\n",
       "      <td>...</td>\n",
       "    </tr>\n",
       "    <tr>\n",
       "      <th>15408</th>\n",
       "      <td>0x60c6b5dc066e33801f2d9f2830595490a3086b4e</td>\n",
       "      <td>2021-11-05</td>\n",
       "    </tr>\n",
       "    <tr>\n",
       "      <th>15409</th>\n",
       "      <td>0x3c40601f73fbf50b81a72edbf2786f14ebb7371b</td>\n",
       "      <td>2021-10-19</td>\n",
       "    </tr>\n",
       "    <tr>\n",
       "      <th>15410</th>\n",
       "      <td>0xbef1b61dc62b82659f102a332e1276e67371ae6e</td>\n",
       "      <td>2021-10-19</td>\n",
       "    </tr>\n",
       "    <tr>\n",
       "      <th>15411</th>\n",
       "      <td>0xf8e9f10c22840b613cda05a0c5fdb59a4d6cd7ef</td>\n",
       "      <td>2021-10-15</td>\n",
       "    </tr>\n",
       "    <tr>\n",
       "      <th>15412</th>\n",
       "      <td>0xd8cdb4b17a741dc7c6a57a650974cd2eba544ff7</td>\n",
       "      <td>2021-10-13</td>\n",
       "    </tr>\n",
       "  </tbody>\n",
       "</table>\n",
       "<p>15413 rows × 2 columns</p>\n",
       "</div>"
      ],
      "text/plain": [
       "                                          address        date\n",
       "0      0xb83e7f1b67d9e57faaa82452ddea2ec9db54f2e8  2022-09-05\n",
       "1      0x4c37c126eac3baaa98e38eae05215c522e6ca817  2021-09-10\n",
       "2      0x185486869e615f5a5644991a491212582caa08fb  2021-02-28\n",
       "3      0x4a5020dc88541c4e0ed19fd7e1da2f6722012c56  2021-02-28\n",
       "4      0x40730f34668afcb3884f050cbc3d376a444bbe44  2021-01-25\n",
       "...                                           ...         ...\n",
       "15408  0x60c6b5dc066e33801f2d9f2830595490a3086b4e  2021-11-05\n",
       "15409  0x3c40601f73fbf50b81a72edbf2786f14ebb7371b  2021-10-19\n",
       "15410  0xbef1b61dc62b82659f102a332e1276e67371ae6e  2021-10-19\n",
       "15411  0xf8e9f10c22840b613cda05a0c5fdb59a4d6cd7ef  2021-10-15\n",
       "15412  0xd8cdb4b17a741dc7c6a57a650974cd2eba544ff7  2021-10-13\n",
       "\n",
       "[15413 rows x 2 columns]"
      ]
     },
     "execution_count": 186,
     "metadata": {},
     "output_type": "execute_result"
    }
   ],
   "source": [
    "df_contract_creation_date"
   ]
  },
  {
   "cell_type": "code",
   "execution_count": 187,
   "metadata": {},
   "outputs": [
    {
     "data": {
      "text/plain": [
       "Index(['token_address', 'project_name', 'code_repo', 'token_creator',\n",
       "       'total_tvl', 'other_contracts', 'token_creation_date',\n",
       "       'other_created_address'],\n",
       "      dtype='object')"
      ]
     },
     "execution_count": 187,
     "metadata": {},
     "output_type": "execute_result"
    }
   ],
   "source": [
    "df_redefine.columns"
   ]
  },
  {
   "cell_type": "code",
   "execution_count": 188,
   "metadata": {},
   "outputs": [],
   "source": [
    "df_redefine_exploded = df_redefine.loc[:,['token_creator','other_created_address','project_name','token_creation_date']]"
   ]
  },
  {
   "cell_type": "code",
   "execution_count": 189,
   "metadata": {},
   "outputs": [],
   "source": [
    "df_redefine_exploded = df_redefine_exploded.explode('other_created_address')"
   ]
  },
  {
   "cell_type": "code",
   "execution_count": 190,
   "metadata": {},
   "outputs": [
    {
     "data": {
      "text/html": [
       "<div>\n",
       "<style scoped>\n",
       "    .dataframe tbody tr th:only-of-type {\n",
       "        vertical-align: middle;\n",
       "    }\n",
       "\n",
       "    .dataframe tbody tr th {\n",
       "        vertical-align: top;\n",
       "    }\n",
       "\n",
       "    .dataframe thead th {\n",
       "        text-align: right;\n",
       "    }\n",
       "</style>\n",
       "<table border=\"1\" class=\"dataframe\">\n",
       "  <thead>\n",
       "    <tr style=\"text-align: right;\">\n",
       "      <th></th>\n",
       "      <th>token_creator</th>\n",
       "      <th>other_created_address</th>\n",
       "      <th>project_name</th>\n",
       "      <th>token_creation_date</th>\n",
       "    </tr>\n",
       "  </thead>\n",
       "  <tbody>\n",
       "    <tr>\n",
       "      <th>0</th>\n",
       "      <td>0x78655080b65f42E2ceE5FA5673689CC44D4E1cFC</td>\n",
       "      <td>0xb83e7f1b67d9e57faaa82452ddea2ec9db54f2e8</td>\n",
       "      <td>Matic</td>\n",
       "      <td>2019-04-20</td>\n",
       "    </tr>\n",
       "    <tr>\n",
       "      <th>0</th>\n",
       "      <td>0x78655080b65f42E2ceE5FA5673689CC44D4E1cFC</td>\n",
       "      <td>0x4c37c126eac3baaa98e38eae05215c522e6ca817</td>\n",
       "      <td>Matic</td>\n",
       "      <td>2019-04-20</td>\n",
       "    </tr>\n",
       "    <tr>\n",
       "      <th>0</th>\n",
       "      <td>0x78655080b65f42E2ceE5FA5673689CC44D4E1cFC</td>\n",
       "      <td>0x185486869e615f5a5644991a491212582caa08fb</td>\n",
       "      <td>Matic</td>\n",
       "      <td>2019-04-20</td>\n",
       "    </tr>\n",
       "    <tr>\n",
       "      <th>0</th>\n",
       "      <td>0x78655080b65f42E2ceE5FA5673689CC44D4E1cFC</td>\n",
       "      <td>0x4a5020dc88541c4e0ed19fd7e1da2f6722012c56</td>\n",
       "      <td>Matic</td>\n",
       "      <td>2019-04-20</td>\n",
       "    </tr>\n",
       "    <tr>\n",
       "      <th>0</th>\n",
       "      <td>0x78655080b65f42E2ceE5FA5673689CC44D4E1cFC</td>\n",
       "      <td>0x40730f34668afcb3884f050cbc3d376a444bbe44</td>\n",
       "      <td>Matic</td>\n",
       "      <td>2019-04-20</td>\n",
       "    </tr>\n",
       "    <tr>\n",
       "      <th>...</th>\n",
       "      <td>...</td>\n",
       "      <td>...</td>\n",
       "      <td>...</td>\n",
       "      <td>...</td>\n",
       "    </tr>\n",
       "    <tr>\n",
       "      <th>461</th>\n",
       "      <td>0x8a2B212cA369f4893F298dD0C4aebE0E75C8396e</td>\n",
       "      <td>0x60c6b5dc066e33801f2d9f2830595490a3086b4e</td>\n",
       "      <td>Dogs Of Elon</td>\n",
       "      <td>2021-10-15</td>\n",
       "    </tr>\n",
       "    <tr>\n",
       "      <th>461</th>\n",
       "      <td>0x8a2B212cA369f4893F298dD0C4aebE0E75C8396e</td>\n",
       "      <td>0x3c40601f73fbf50b81a72edbf2786f14ebb7371b</td>\n",
       "      <td>Dogs Of Elon</td>\n",
       "      <td>2021-10-15</td>\n",
       "    </tr>\n",
       "    <tr>\n",
       "      <th>461</th>\n",
       "      <td>0x8a2B212cA369f4893F298dD0C4aebE0E75C8396e</td>\n",
       "      <td>0xbef1b61dc62b82659f102a332e1276e67371ae6e</td>\n",
       "      <td>Dogs Of Elon</td>\n",
       "      <td>2021-10-15</td>\n",
       "    </tr>\n",
       "    <tr>\n",
       "      <th>461</th>\n",
       "      <td>0x8a2B212cA369f4893F298dD0C4aebE0E75C8396e</td>\n",
       "      <td>0xf8e9f10c22840b613cda05a0c5fdb59a4d6cd7ef</td>\n",
       "      <td>Dogs Of Elon</td>\n",
       "      <td>2021-10-15</td>\n",
       "    </tr>\n",
       "    <tr>\n",
       "      <th>461</th>\n",
       "      <td>0x8a2B212cA369f4893F298dD0C4aebE0E75C8396e</td>\n",
       "      <td>0xd8cdb4b17a741dc7c6a57a650974cd2eba544ff7</td>\n",
       "      <td>Dogs Of Elon</td>\n",
       "      <td>2021-10-15</td>\n",
       "    </tr>\n",
       "  </tbody>\n",
       "</table>\n",
       "<p>15472 rows × 4 columns</p>\n",
       "</div>"
      ],
      "text/plain": [
       "                                  token_creator  \\\n",
       "0    0x78655080b65f42E2ceE5FA5673689CC44D4E1cFC   \n",
       "0    0x78655080b65f42E2ceE5FA5673689CC44D4E1cFC   \n",
       "0    0x78655080b65f42E2ceE5FA5673689CC44D4E1cFC   \n",
       "0    0x78655080b65f42E2ceE5FA5673689CC44D4E1cFC   \n",
       "0    0x78655080b65f42E2ceE5FA5673689CC44D4E1cFC   \n",
       "..                                          ...   \n",
       "461  0x8a2B212cA369f4893F298dD0C4aebE0E75C8396e   \n",
       "461  0x8a2B212cA369f4893F298dD0C4aebE0E75C8396e   \n",
       "461  0x8a2B212cA369f4893F298dD0C4aebE0E75C8396e   \n",
       "461  0x8a2B212cA369f4893F298dD0C4aebE0E75C8396e   \n",
       "461  0x8a2B212cA369f4893F298dD0C4aebE0E75C8396e   \n",
       "\n",
       "                          other_created_address  project_name  \\\n",
       "0    0xb83e7f1b67d9e57faaa82452ddea2ec9db54f2e8         Matic   \n",
       "0    0x4c37c126eac3baaa98e38eae05215c522e6ca817         Matic   \n",
       "0    0x185486869e615f5a5644991a491212582caa08fb         Matic   \n",
       "0    0x4a5020dc88541c4e0ed19fd7e1da2f6722012c56         Matic   \n",
       "0    0x40730f34668afcb3884f050cbc3d376a444bbe44         Matic   \n",
       "..                                          ...           ...   \n",
       "461  0x60c6b5dc066e33801f2d9f2830595490a3086b4e  Dogs Of Elon   \n",
       "461  0x3c40601f73fbf50b81a72edbf2786f14ebb7371b  Dogs Of Elon   \n",
       "461  0xbef1b61dc62b82659f102a332e1276e67371ae6e  Dogs Of Elon   \n",
       "461  0xf8e9f10c22840b613cda05a0c5fdb59a4d6cd7ef  Dogs Of Elon   \n",
       "461  0xd8cdb4b17a741dc7c6a57a650974cd2eba544ff7  Dogs Of Elon   \n",
       "\n",
       "    token_creation_date  \n",
       "0            2019-04-20  \n",
       "0            2019-04-20  \n",
       "0            2019-04-20  \n",
       "0            2019-04-20  \n",
       "0            2019-04-20  \n",
       "..                  ...  \n",
       "461          2021-10-15  \n",
       "461          2021-10-15  \n",
       "461          2021-10-15  \n",
       "461          2021-10-15  \n",
       "461          2021-10-15  \n",
       "\n",
       "[15472 rows x 4 columns]"
      ]
     },
     "execution_count": 190,
     "metadata": {},
     "output_type": "execute_result"
    }
   ],
   "source": [
    "df_redefine_exploded"
   ]
  },
  {
   "cell_type": "code",
   "execution_count": 191,
   "metadata": {},
   "outputs": [],
   "source": [
    "# df_merge = pd.merge(df_redefine, df_etherscan, left_on=\"other_created_address\",right_on=\"index\", how=\"left\")\n",
    "df_redefine_with_date = pd.merge(df_redefine_exploded, df_contract_creation_date, left_on='other_created_address', right_on='address', how='left')\n",
    "df_redefine_with_date.drop('address', axis=1,inplace=True)\n"
   ]
  },
  {
   "cell_type": "code",
   "execution_count": 195,
   "metadata": {},
   "outputs": [],
   "source": [
    "df_redefine_with_date = df_redefine_with_date.loc[df_redefine_with_date['date'].notna()]"
   ]
  },
  {
   "cell_type": "code",
   "execution_count": 198,
   "metadata": {},
   "outputs": [
    {
     "name": "stderr",
     "output_type": "stream",
     "text": [
      "/var/folders/00/_mvycxm948781kjwpdqn_f1w0000gn/T/ipykernel_61524/3804249097.py:8: SettingWithCopyWarning: \n",
      "A value is trying to be set on a copy of a slice from a DataFrame.\n",
      "Try using .loc[row_indexer,col_indexer] = value instead\n",
      "\n",
      "See the caveats in the documentation: https://pandas.pydata.org/pandas-docs/stable/user_guide/indexing.html#returning-a-view-versus-a-copy\n",
      "  df_redefine_with_date['date'] = df_redefine_with_date['date'].apply(lambda x: to_datetime(x))\n",
      "/var/folders/00/_mvycxm948781kjwpdqn_f1w0000gn/T/ipykernel_61524/3804249097.py:9: SettingWithCopyWarning: \n",
      "A value is trying to be set on a copy of a slice from a DataFrame.\n",
      "Try using .loc[row_indexer,col_indexer] = value instead\n",
      "\n",
      "See the caveats in the documentation: https://pandas.pydata.org/pandas-docs/stable/user_guide/indexing.html#returning-a-view-versus-a-copy\n",
      "  df_redefine_with_date['token_creation_date'] = df_redefine_with_date['token_creation_date'].apply(lambda x: to_datetime(x))\n"
     ]
    }
   ],
   "source": [
    "def to_datetime(obj):\n",
    "    format_string = '%Y-%m-%d'\n",
    "    datetime_obj = datetime.datetime.strptime(obj, format_string)\n",
    "    return datetime_obj\n",
    "\n",
    "\n",
    "\n",
    "df_redefine_with_date['date'] = df_redefine_with_date['date'].apply(lambda x: to_datetime(x))\n",
    "df_redefine_with_date['token_creation_date'] = df_redefine_with_date['token_creation_date'].apply(lambda x: to_datetime(x))\n",
    "\n"
   ]
  },
  {
   "cell_type": "code",
   "execution_count": 199,
   "metadata": {},
   "outputs": [
    {
     "name": "stderr",
     "output_type": "stream",
     "text": [
      "/var/folders/00/_mvycxm948781kjwpdqn_f1w0000gn/T/ipykernel_61524/3883998346.py:1: SettingWithCopyWarning: \n",
      "A value is trying to be set on a copy of a slice from a DataFrame.\n",
      "Try using .loc[row_indexer,col_indexer] = value instead\n",
      "\n",
      "See the caveats in the documentation: https://pandas.pydata.org/pandas-docs/stable/user_guide/indexing.html#returning-a-view-versus-a-copy\n",
      "  df_redefine_with_date['date_creation_diff']=df_redefine_with_date.date - df_redefine_with_date.token_creation_date\n"
     ]
    }
   ],
   "source": [
    "df_redefine_with_date['date_creation_diff']=df_redefine_with_date.date - df_redefine_with_date.token_creation_date"
   ]
  },
  {
   "cell_type": "code",
   "execution_count": 202,
   "metadata": {},
   "outputs": [
    {
     "name": "stderr",
     "output_type": "stream",
     "text": [
      "/var/folders/00/_mvycxm948781kjwpdqn_f1w0000gn/T/ipykernel_61524/3230992190.py:1: SettingWithCopyWarning: \n",
      "A value is trying to be set on a copy of a slice from a DataFrame.\n",
      "Try using .loc[row_indexer,col_indexer] = value instead\n",
      "\n",
      "See the caveats in the documentation: https://pandas.pydata.org/pandas-docs/stable/user_guide/indexing.html#returning-a-view-versus-a-copy\n",
      "  df_redefine_with_date['date_creation_diff']=df_redefine_with_date['date_creation_diff'].apply(lambda x: int(x.days))\n"
     ]
    }
   ],
   "source": [
    "df_redefine_with_date['date_creation_diff']=df_redefine_with_date['date_creation_diff'].apply(lambda x: int(x.days))"
   ]
  },
  {
   "cell_type": "code",
   "execution_count": 204,
   "metadata": {},
   "outputs": [],
   "source": [
    "df_redefine_with_date.to_csv('./raw_data/expanded_redefine_data_with_date.csv')"
   ]
  }
 ],
 "metadata": {
  "kernelspec": {
   "display_name": "ariel-final",
   "language": "python",
   "name": "python3"
  },
  "language_info": {
   "codemirror_mode": {
    "name": "ipython",
    "version": 3
   },
   "file_extension": ".py",
   "mimetype": "text/x-python",
   "name": "python",
   "nbconvert_exporter": "python",
   "pygments_lexer": "ipython3",
   "version": "3.11.0"
  },
  "orig_nbformat": 4,
  "vscode": {
   "interpreter": {
    "hash": "c5189f02553a516c04daa42a4c3a30d48a304463063ad5ec13130d72eb942a4d"
   }
  }
 },
 "nbformat": 4,
 "nbformat_minor": 2
}
